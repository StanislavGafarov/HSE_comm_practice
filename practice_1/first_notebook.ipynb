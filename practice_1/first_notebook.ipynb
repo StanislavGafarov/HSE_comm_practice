{
 "cells": [
  {
   "cell_type": "code",
   "execution_count": 1,
   "metadata": {},
   "outputs": [],
   "source": [
    "import pandas as pd\n",
    "import numpy as np\n",
    "import matplotlib.pyplot as plt"
   ]
  },
  {
   "cell_type": "code",
   "execution_count": 2,
   "metadata": {},
   "outputs": [],
   "source": [
    "campaign_df = pd.read_csv('campaign.csv')"
   ]
  },
  {
   "cell_type": "code",
   "execution_count": 3,
   "metadata": {},
   "outputs": [
    {
     "data": {
      "text/html": [
       "<div>\n",
       "<style scoped>\n",
       "    .dataframe tbody tr th:only-of-type {\n",
       "        vertical-align: middle;\n",
       "    }\n",
       "\n",
       "    .dataframe tbody tr th {\n",
       "        vertical-align: top;\n",
       "    }\n",
       "\n",
       "    .dataframe thead th {\n",
       "        text-align: right;\n",
       "    }\n",
       "</style>\n",
       "<table border=\"1\" class=\"dataframe\">\n",
       "  <thead>\n",
       "    <tr style=\"text-align: right;\">\n",
       "      <th></th>\n",
       "      <th>campaign_id</th>\n",
       "      <th>message</th>\n",
       "      <th>send_result</th>\n",
       "      <th>dates</th>\n",
       "    </tr>\n",
       "  </thead>\n",
       "  <tbody>\n",
       "    <tr>\n",
       "      <th>0</th>\n",
       "      <td>2112020</td>\n",
       "      <td>1</td>\n",
       "      <td>delivered</td>\n",
       "      <td>2020-11-02//2020-11-08</td>\n",
       "    </tr>\n",
       "    <tr>\n",
       "      <th>1</th>\n",
       "      <td>26102020</td>\n",
       "      <td>2</td>\n",
       "      <td>delivered</td>\n",
       "      <td>2020-10-26//2020-11-01</td>\n",
       "    </tr>\n",
       "    <tr>\n",
       "      <th>2</th>\n",
       "      <td>19102020</td>\n",
       "      <td>3</td>\n",
       "      <td>delivered</td>\n",
       "      <td>2020-10-19//2020-10-25</td>\n",
       "    </tr>\n",
       "  </tbody>\n",
       "</table>\n",
       "</div>"
      ],
      "text/plain": [
       "   campaign_id  message send_result                   dates\n",
       "0      2112020        1   delivered  2020-11-02//2020-11-08\n",
       "1     26102020        2   delivered  2020-10-26//2020-11-01\n",
       "2     19102020        3   delivered  2020-10-19//2020-10-25"
      ]
     },
     "execution_count": 3,
     "metadata": {},
     "output_type": "execute_result"
    }
   ],
   "source": [
    "campaign_df"
   ]
  },
  {
   "cell_type": "code",
   "execution_count": 5,
   "metadata": {},
   "outputs": [
    {
     "data": {
      "text/plain": [
       "Timestamp('2020-11-02 00:00:00')"
      ]
     },
     "execution_count": 5,
     "metadata": {},
     "output_type": "execute_result"
    }
   ],
   "source": [
    "pd.to_datetime('2020-11-02')"
   ]
  },
  {
   "cell_type": "code",
   "execution_count": 8,
   "metadata": {},
   "outputs": [
    {
     "data": {
      "text/plain": [
       "0    2020-11-02\n",
       "1    2020-10-26\n",
       "2    2020-10-19\n",
       "Name: campaign_id, dtype: object"
      ]
     },
     "execution_count": 8,
     "metadata": {},
     "output_type": "execute_result"
    }
   ],
   "source": [
    "campaign_df.campaign_id.map({2112020: '2020-11-02', 26102020:'2020-10-26', 19102020:'2020-10-19'})"
   ]
  },
  {
   "cell_type": "code",
   "execution_count": 13,
   "metadata": {},
   "outputs": [
    {
     "data": {
      "text/plain": [
       "0    [2020-11-02, 2020-11-08]\n",
       "1    [2020-10-26, 2020-11-01]\n",
       "2    [2020-10-19, 2020-10-25]\n",
       "Name: dates, dtype: object"
      ]
     },
     "execution_count": 13,
     "metadata": {},
     "output_type": "execute_result"
    }
   ],
   "source": [
    "campaign_df.dates.str.split('//')"
   ]
  },
  {
   "cell_type": "code",
   "execution_count": 14,
   "metadata": {},
   "outputs": [
    {
     "data": {
      "text/plain": [
       "0    2020-11-02\n",
       "1    2020-10-26\n",
       "2    2020-10-19\n",
       "Name: dates, dtype: object"
      ]
     },
     "execution_count": 14,
     "metadata": {},
     "output_type": "execute_result"
    }
   ],
   "source": [
    "campaign_df.dates.apply(lambda x: x.split('//')[0])"
   ]
  },
  {
   "cell_type": "code",
   "execution_count": 15,
   "metadata": {},
   "outputs": [],
   "source": [
    "campaign_df['send_date'] = campaign_df.dates.apply(lambda x: x.split('//')[0])"
   ]
  },
  {
   "cell_type": "code",
   "execution_count": 40,
   "metadata": {},
   "outputs": [],
   "source": [
    "campaign_df.campaign_id = campaign_df.campaign_id.replace(2112020,'02112020')"
   ]
  },
  {
   "cell_type": "code",
   "execution_count": 41,
   "metadata": {},
   "outputs": [
    {
     "data": {
      "text/html": [
       "<div>\n",
       "<style scoped>\n",
       "    .dataframe tbody tr th:only-of-type {\n",
       "        vertical-align: middle;\n",
       "    }\n",
       "\n",
       "    .dataframe tbody tr th {\n",
       "        vertical-align: top;\n",
       "    }\n",
       "\n",
       "    .dataframe thead th {\n",
       "        text-align: right;\n",
       "    }\n",
       "</style>\n",
       "<table border=\"1\" class=\"dataframe\">\n",
       "  <thead>\n",
       "    <tr style=\"text-align: right;\">\n",
       "      <th></th>\n",
       "      <th>campaign_id</th>\n",
       "      <th>message</th>\n",
       "      <th>send_result</th>\n",
       "      <th>dates</th>\n",
       "      <th>send_date</th>\n",
       "    </tr>\n",
       "  </thead>\n",
       "  <tbody>\n",
       "    <tr>\n",
       "      <th>0</th>\n",
       "      <td>02112020</td>\n",
       "      <td>1</td>\n",
       "      <td>delivered</td>\n",
       "      <td>2020-11-02//2020-11-08</td>\n",
       "      <td>2020-11-02</td>\n",
       "    </tr>\n",
       "    <tr>\n",
       "      <th>1</th>\n",
       "      <td>26102020</td>\n",
       "      <td>2</td>\n",
       "      <td>delivered</td>\n",
       "      <td>2020-10-26//2020-11-01</td>\n",
       "      <td>2020-10-26</td>\n",
       "    </tr>\n",
       "    <tr>\n",
       "      <th>2</th>\n",
       "      <td>19102020</td>\n",
       "      <td>3</td>\n",
       "      <td>delivered</td>\n",
       "      <td>2020-10-19//2020-10-25</td>\n",
       "      <td>2020-10-19</td>\n",
       "    </tr>\n",
       "  </tbody>\n",
       "</table>\n",
       "</div>"
      ],
      "text/plain": [
       "  campaign_id  message send_result                   dates   send_date\n",
       "0    02112020        1   delivered  2020-11-02//2020-11-08  2020-11-02\n",
       "1    26102020        2   delivered  2020-10-26//2020-11-01  2020-10-26\n",
       "2    19102020        3   delivered  2020-10-19//2020-10-25  2020-10-19"
      ]
     },
     "execution_count": 41,
     "metadata": {},
     "output_type": "execute_result"
    }
   ],
   "source": [
    "campaign_df"
   ]
  },
  {
   "cell_type": "code",
   "execution_count": 17,
   "metadata": {},
   "outputs": [],
   "source": [
    "user_campaign = pd.read_json('user_campaign.json')"
   ]
  },
  {
   "cell_type": "code",
   "execution_count": 19,
   "metadata": {},
   "outputs": [
    {
     "data": {
      "text/plain": [
       "10000"
      ]
     },
     "execution_count": 19,
     "metadata": {},
     "output_type": "execute_result"
    }
   ],
   "source": [
    "user_campaign.user_id.nunique()"
   ]
  },
  {
   "cell_type": "code",
   "execution_count": 43,
   "metadata": {},
   "outputs": [],
   "source": [
    "user_campaign.campaign_list = user_campaign.campaign_list.apply(lambda x: x.split(','))"
   ]
  },
  {
   "cell_type": "code",
   "execution_count": 48,
   "metadata": {},
   "outputs": [],
   "source": [
    "user_campaign['len_list'] = user_campaign.campaign_list.apply(len)"
   ]
  },
  {
   "cell_type": "code",
   "execution_count": 74,
   "metadata": {},
   "outputs": [
    {
     "data": {
      "text/html": [
       "<div>\n",
       "<style scoped>\n",
       "    .dataframe tbody tr th:only-of-type {\n",
       "        vertical-align: middle;\n",
       "    }\n",
       "\n",
       "    .dataframe tbody tr th {\n",
       "        vertical-align: top;\n",
       "    }\n",
       "\n",
       "    .dataframe thead th {\n",
       "        text-align: right;\n",
       "    }\n",
       "</style>\n",
       "<table border=\"1\" class=\"dataframe\">\n",
       "  <thead>\n",
       "    <tr style=\"text-align: right;\">\n",
       "      <th></th>\n",
       "      <th>user_id</th>\n",
       "      <th>campaign_list</th>\n",
       "      <th>len_list</th>\n",
       "      <th>campaign_1</th>\n",
       "      <th>campaign_2</th>\n",
       "      <th>campaign_3</th>\n",
       "    </tr>\n",
       "  </thead>\n",
       "  <tbody>\n",
       "    <tr>\n",
       "      <th>0</th>\n",
       "      <td>96536</td>\n",
       "      <td>[0, 26102020, 0]</td>\n",
       "      <td>3</td>\n",
       "      <td>0</td>\n",
       "      <td>26102020</td>\n",
       "      <td>0</td>\n",
       "    </tr>\n",
       "    <tr>\n",
       "      <th>1</th>\n",
       "      <td>70637</td>\n",
       "      <td>[19102020, 26102020, 02112020]</td>\n",
       "      <td>3</td>\n",
       "      <td>19102020</td>\n",
       "      <td>26102020</td>\n",
       "      <td>02112020</td>\n",
       "    </tr>\n",
       "    <tr>\n",
       "      <th>2</th>\n",
       "      <td>61663</td>\n",
       "      <td>[0, 26102020, 02112020]</td>\n",
       "      <td>3</td>\n",
       "      <td>0</td>\n",
       "      <td>26102020</td>\n",
       "      <td>02112020</td>\n",
       "    </tr>\n",
       "    <tr>\n",
       "      <th>3</th>\n",
       "      <td>93341</td>\n",
       "      <td>[0, 26102020, 02112020]</td>\n",
       "      <td>3</td>\n",
       "      <td>0</td>\n",
       "      <td>26102020</td>\n",
       "      <td>02112020</td>\n",
       "    </tr>\n",
       "    <tr>\n",
       "      <th>4</th>\n",
       "      <td>91206</td>\n",
       "      <td>[19102020, 0, 0]</td>\n",
       "      <td>3</td>\n",
       "      <td>19102020</td>\n",
       "      <td>0</td>\n",
       "      <td>0</td>\n",
       "    </tr>\n",
       "    <tr>\n",
       "      <th>...</th>\n",
       "      <td>...</td>\n",
       "      <td>...</td>\n",
       "      <td>...</td>\n",
       "      <td>...</td>\n",
       "      <td>...</td>\n",
       "      <td>...</td>\n",
       "    </tr>\n",
       "    <tr>\n",
       "      <th>9995</th>\n",
       "      <td>51550</td>\n",
       "      <td>[19102020, 0, 02112020]</td>\n",
       "      <td>3</td>\n",
       "      <td>19102020</td>\n",
       "      <td>0</td>\n",
       "      <td>02112020</td>\n",
       "    </tr>\n",
       "    <tr>\n",
       "      <th>9996</th>\n",
       "      <td>47570</td>\n",
       "      <td>[0, 26102020, 02112020]</td>\n",
       "      <td>3</td>\n",
       "      <td>0</td>\n",
       "      <td>26102020</td>\n",
       "      <td>02112020</td>\n",
       "    </tr>\n",
       "    <tr>\n",
       "      <th>9997</th>\n",
       "      <td>40859</td>\n",
       "      <td>[19102020, 26102020, 02112020]</td>\n",
       "      <td>3</td>\n",
       "      <td>19102020</td>\n",
       "      <td>26102020</td>\n",
       "      <td>02112020</td>\n",
       "    </tr>\n",
       "    <tr>\n",
       "      <th>9998</th>\n",
       "      <td>35663</td>\n",
       "      <td>[19102020, 26102020, 0]</td>\n",
       "      <td>3</td>\n",
       "      <td>19102020</td>\n",
       "      <td>26102020</td>\n",
       "      <td>0</td>\n",
       "    </tr>\n",
       "    <tr>\n",
       "      <th>9999</th>\n",
       "      <td>73339</td>\n",
       "      <td>[19102020, 0, 0]</td>\n",
       "      <td>3</td>\n",
       "      <td>19102020</td>\n",
       "      <td>0</td>\n",
       "      <td>0</td>\n",
       "    </tr>\n",
       "  </tbody>\n",
       "</table>\n",
       "<p>10000 rows × 6 columns</p>\n",
       "</div>"
      ],
      "text/plain": [
       "      user_id                   campaign_list  len_list campaign_1 campaign_2  \\\n",
       "0       96536                [0, 26102020, 0]         3          0   26102020   \n",
       "1       70637  [19102020, 26102020, 02112020]         3   19102020   26102020   \n",
       "2       61663         [0, 26102020, 02112020]         3          0   26102020   \n",
       "3       93341         [0, 26102020, 02112020]         3          0   26102020   \n",
       "4       91206                [19102020, 0, 0]         3   19102020          0   \n",
       "...       ...                             ...       ...        ...        ...   \n",
       "9995    51550         [19102020, 0, 02112020]         3   19102020          0   \n",
       "9996    47570         [0, 26102020, 02112020]         3          0   26102020   \n",
       "9997    40859  [19102020, 26102020, 02112020]         3   19102020   26102020   \n",
       "9998    35663         [19102020, 26102020, 0]         3   19102020   26102020   \n",
       "9999    73339                [19102020, 0, 0]         3   19102020          0   \n",
       "\n",
       "     campaign_3  \n",
       "0             0  \n",
       "1      02112020  \n",
       "2      02112020  \n",
       "3      02112020  \n",
       "4             0  \n",
       "...         ...  \n",
       "9995   02112020  \n",
       "9996   02112020  \n",
       "9997   02112020  \n",
       "9998          0  \n",
       "9999          0  \n",
       "\n",
       "[10000 rows x 6 columns]"
      ]
     },
     "execution_count": 74,
     "metadata": {},
     "output_type": "execute_result"
    }
   ],
   "source": [
    "user_campaign"
   ]
  },
  {
   "cell_type": "code",
   "execution_count": 50,
   "metadata": {},
   "outputs": [
    {
     "data": {
      "text/plain": [
       "array([3])"
      ]
     },
     "execution_count": 50,
     "metadata": {},
     "output_type": "execute_result"
    }
   ],
   "source": [
    "user_campaign.len_list.unique()"
   ]
  },
  {
   "cell_type": "code",
   "execution_count": 55,
   "metadata": {},
   "outputs": [],
   "source": [
    "user_campaign[['campaign_1','campaign_2', 'campaign_3']] = pd.DataFrame(user_campaign.campaign_list.tolist()\n",
    "                                                                        , index=user_campaign.index)"
   ]
  },
  {
   "cell_type": "code",
   "execution_count": 63,
   "metadata": {},
   "outputs": [
    {
     "data": {
      "text/html": [
       "<div>\n",
       "<style scoped>\n",
       "    .dataframe tbody tr th:only-of-type {\n",
       "        vertical-align: middle;\n",
       "    }\n",
       "\n",
       "    .dataframe tbody tr th {\n",
       "        vertical-align: top;\n",
       "    }\n",
       "\n",
       "    .dataframe thead th {\n",
       "        text-align: right;\n",
       "    }\n",
       "</style>\n",
       "<table border=\"1\" class=\"dataframe\">\n",
       "  <thead>\n",
       "    <tr style=\"text-align: right;\">\n",
       "      <th></th>\n",
       "      <th>user_id</th>\n",
       "      <th>campaign_list</th>\n",
       "      <th>len_list</th>\n",
       "      <th>campaign_1</th>\n",
       "      <th>campaign_2</th>\n",
       "      <th>campaign_3</th>\n",
       "    </tr>\n",
       "  </thead>\n",
       "  <tbody>\n",
       "    <tr>\n",
       "      <th>10</th>\n",
       "      <td>16231</td>\n",
       "      <td>[0, 0, 0]</td>\n",
       "      <td>3</td>\n",
       "      <td>0</td>\n",
       "      <td>0</td>\n",
       "      <td>0</td>\n",
       "    </tr>\n",
       "    <tr>\n",
       "      <th>18</th>\n",
       "      <td>10664</td>\n",
       "      <td>[0, 0, 0]</td>\n",
       "      <td>3</td>\n",
       "      <td>0</td>\n",
       "      <td>0</td>\n",
       "      <td>0</td>\n",
       "    </tr>\n",
       "    <tr>\n",
       "      <th>49</th>\n",
       "      <td>12530</td>\n",
       "      <td>[0, 0, 0]</td>\n",
       "      <td>3</td>\n",
       "      <td>0</td>\n",
       "      <td>0</td>\n",
       "      <td>0</td>\n",
       "    </tr>\n",
       "    <tr>\n",
       "      <th>120</th>\n",
       "      <td>10521</td>\n",
       "      <td>[0, 0, 0]</td>\n",
       "      <td>3</td>\n",
       "      <td>0</td>\n",
       "      <td>0</td>\n",
       "      <td>0</td>\n",
       "    </tr>\n",
       "    <tr>\n",
       "      <th>244</th>\n",
       "      <td>46311</td>\n",
       "      <td>[0, 0, 0]</td>\n",
       "      <td>3</td>\n",
       "      <td>0</td>\n",
       "      <td>0</td>\n",
       "      <td>0</td>\n",
       "    </tr>\n",
       "    <tr>\n",
       "      <th>...</th>\n",
       "      <td>...</td>\n",
       "      <td>...</td>\n",
       "      <td>...</td>\n",
       "      <td>...</td>\n",
       "      <td>...</td>\n",
       "      <td>...</td>\n",
       "    </tr>\n",
       "    <tr>\n",
       "      <th>9759</th>\n",
       "      <td>59057</td>\n",
       "      <td>[0, 0, 0]</td>\n",
       "      <td>3</td>\n",
       "      <td>0</td>\n",
       "      <td>0</td>\n",
       "      <td>0</td>\n",
       "    </tr>\n",
       "    <tr>\n",
       "      <th>9793</th>\n",
       "      <td>76461</td>\n",
       "      <td>[0, 0, 0]</td>\n",
       "      <td>3</td>\n",
       "      <td>0</td>\n",
       "      <td>0</td>\n",
       "      <td>0</td>\n",
       "    </tr>\n",
       "    <tr>\n",
       "      <th>9806</th>\n",
       "      <td>39035</td>\n",
       "      <td>[0, 0, 0]</td>\n",
       "      <td>3</td>\n",
       "      <td>0</td>\n",
       "      <td>0</td>\n",
       "      <td>0</td>\n",
       "    </tr>\n",
       "    <tr>\n",
       "      <th>9825</th>\n",
       "      <td>41867</td>\n",
       "      <td>[0, 0, 0]</td>\n",
       "      <td>3</td>\n",
       "      <td>0</td>\n",
       "      <td>0</td>\n",
       "      <td>0</td>\n",
       "    </tr>\n",
       "    <tr>\n",
       "      <th>9955</th>\n",
       "      <td>66245</td>\n",
       "      <td>[0, 0, 0]</td>\n",
       "      <td>3</td>\n",
       "      <td>0</td>\n",
       "      <td>0</td>\n",
       "      <td>0</td>\n",
       "    </tr>\n",
       "  </tbody>\n",
       "</table>\n",
       "<p>250 rows × 6 columns</p>\n",
       "</div>"
      ],
      "text/plain": [
       "      user_id campaign_list  len_list campaign_1 campaign_2 campaign_3\n",
       "10      16231     [0, 0, 0]         3          0          0          0\n",
       "18      10664     [0, 0, 0]         3          0          0          0\n",
       "49      12530     [0, 0, 0]         3          0          0          0\n",
       "120     10521     [0, 0, 0]         3          0          0          0\n",
       "244     46311     [0, 0, 0]         3          0          0          0\n",
       "...       ...           ...       ...        ...        ...        ...\n",
       "9759    59057     [0, 0, 0]         3          0          0          0\n",
       "9793    76461     [0, 0, 0]         3          0          0          0\n",
       "9806    39035     [0, 0, 0]         3          0          0          0\n",
       "9825    41867     [0, 0, 0]         3          0          0          0\n",
       "9955    66245     [0, 0, 0]         3          0          0          0\n",
       "\n",
       "[250 rows x 6 columns]"
      ]
     },
     "execution_count": 63,
     "metadata": {},
     "output_type": "execute_result"
    }
   ],
   "source": [
    "user_campaign[(user_campaign.campaign_1 == '0')&\n",
    "              (user_campaign.campaign_2 == '0')&\n",
    "              (user_campaign.campaign_3 == '0')]"
   ]
  },
  {
   "cell_type": "code",
   "execution_count": 84,
   "metadata": {},
   "outputs": [
    {
     "data": {
      "text/html": [
       "<div>\n",
       "<style scoped>\n",
       "    .dataframe tbody tr th:only-of-type {\n",
       "        vertical-align: middle;\n",
       "    }\n",
       "\n",
       "    .dataframe tbody tr th {\n",
       "        vertical-align: top;\n",
       "    }\n",
       "\n",
       "    .dataframe thead th {\n",
       "        text-align: right;\n",
       "    }\n",
       "</style>\n",
       "<table border=\"1\" class=\"dataframe\">\n",
       "  <thead>\n",
       "    <tr style=\"text-align: right;\">\n",
       "      <th></th>\n",
       "      <th>user_id</th>\n",
       "      <th>campaign_list</th>\n",
       "      <th>len_list</th>\n",
       "      <th>campaign_1</th>\n",
       "      <th>campaign_2</th>\n",
       "      <th>campaign_3</th>\n",
       "    </tr>\n",
       "  </thead>\n",
       "  <tbody>\n",
       "    <tr>\n",
       "      <th>0</th>\n",
       "      <td>96536</td>\n",
       "      <td>[0, 26102020, 0]</td>\n",
       "      <td>3</td>\n",
       "      <td>0</td>\n",
       "      <td>26102020</td>\n",
       "      <td>0</td>\n",
       "    </tr>\n",
       "    <tr>\n",
       "      <th>1</th>\n",
       "      <td>70637</td>\n",
       "      <td>[19102020, 26102020, 02112020]</td>\n",
       "      <td>3</td>\n",
       "      <td>19102020</td>\n",
       "      <td>26102020</td>\n",
       "      <td>02112020</td>\n",
       "    </tr>\n",
       "    <tr>\n",
       "      <th>2</th>\n",
       "      <td>61663</td>\n",
       "      <td>[0, 26102020, 02112020]</td>\n",
       "      <td>3</td>\n",
       "      <td>0</td>\n",
       "      <td>26102020</td>\n",
       "      <td>02112020</td>\n",
       "    </tr>\n",
       "    <tr>\n",
       "      <th>3</th>\n",
       "      <td>93341</td>\n",
       "      <td>[0, 26102020, 02112020]</td>\n",
       "      <td>3</td>\n",
       "      <td>0</td>\n",
       "      <td>26102020</td>\n",
       "      <td>02112020</td>\n",
       "    </tr>\n",
       "    <tr>\n",
       "      <th>4</th>\n",
       "      <td>91206</td>\n",
       "      <td>[19102020, 0, 0]</td>\n",
       "      <td>3</td>\n",
       "      <td>19102020</td>\n",
       "      <td>0</td>\n",
       "      <td>0</td>\n",
       "    </tr>\n",
       "    <tr>\n",
       "      <th>...</th>\n",
       "      <td>...</td>\n",
       "      <td>...</td>\n",
       "      <td>...</td>\n",
       "      <td>...</td>\n",
       "      <td>...</td>\n",
       "      <td>...</td>\n",
       "    </tr>\n",
       "    <tr>\n",
       "      <th>9995</th>\n",
       "      <td>51550</td>\n",
       "      <td>[19102020, 0, 02112020]</td>\n",
       "      <td>3</td>\n",
       "      <td>19102020</td>\n",
       "      <td>0</td>\n",
       "      <td>02112020</td>\n",
       "    </tr>\n",
       "    <tr>\n",
       "      <th>9996</th>\n",
       "      <td>47570</td>\n",
       "      <td>[0, 26102020, 02112020]</td>\n",
       "      <td>3</td>\n",
       "      <td>0</td>\n",
       "      <td>26102020</td>\n",
       "      <td>02112020</td>\n",
       "    </tr>\n",
       "    <tr>\n",
       "      <th>9997</th>\n",
       "      <td>40859</td>\n",
       "      <td>[19102020, 26102020, 02112020]</td>\n",
       "      <td>3</td>\n",
       "      <td>19102020</td>\n",
       "      <td>26102020</td>\n",
       "      <td>02112020</td>\n",
       "    </tr>\n",
       "    <tr>\n",
       "      <th>9998</th>\n",
       "      <td>35663</td>\n",
       "      <td>[19102020, 26102020, 0]</td>\n",
       "      <td>3</td>\n",
       "      <td>19102020</td>\n",
       "      <td>26102020</td>\n",
       "      <td>0</td>\n",
       "    </tr>\n",
       "    <tr>\n",
       "      <th>9999</th>\n",
       "      <td>73339</td>\n",
       "      <td>[19102020, 0, 0]</td>\n",
       "      <td>3</td>\n",
       "      <td>19102020</td>\n",
       "      <td>0</td>\n",
       "      <td>0</td>\n",
       "    </tr>\n",
       "  </tbody>\n",
       "</table>\n",
       "<p>10000 rows × 6 columns</p>\n",
       "</div>"
      ],
      "text/plain": [
       "      user_id                   campaign_list  len_list campaign_1 campaign_2  \\\n",
       "0       96536                [0, 26102020, 0]         3          0   26102020   \n",
       "1       70637  [19102020, 26102020, 02112020]         3   19102020   26102020   \n",
       "2       61663         [0, 26102020, 02112020]         3          0   26102020   \n",
       "3       93341         [0, 26102020, 02112020]         3          0   26102020   \n",
       "4       91206                [19102020, 0, 0]         3   19102020          0   \n",
       "...       ...                             ...       ...        ...        ...   \n",
       "9995    51550         [19102020, 0, 02112020]         3   19102020          0   \n",
       "9996    47570         [0, 26102020, 02112020]         3          0   26102020   \n",
       "9997    40859  [19102020, 26102020, 02112020]         3   19102020   26102020   \n",
       "9998    35663         [19102020, 26102020, 0]         3   19102020   26102020   \n",
       "9999    73339                [19102020, 0, 0]         3   19102020          0   \n",
       "\n",
       "     campaign_3  \n",
       "0             0  \n",
       "1      02112020  \n",
       "2      02112020  \n",
       "3      02112020  \n",
       "4             0  \n",
       "...         ...  \n",
       "9995   02112020  \n",
       "9996   02112020  \n",
       "9997   02112020  \n",
       "9998          0  \n",
       "9999          0  \n",
       "\n",
       "[10000 rows x 6 columns]"
      ]
     },
     "execution_count": 84,
     "metadata": {},
     "output_type": "execute_result"
    }
   ],
   "source": [
    "user_campaign"
   ]
  },
  {
   "cell_type": "code",
   "execution_count": 83,
   "metadata": {},
   "outputs": [
    {
     "data": {
      "text/plain": [
       "6000"
      ]
     },
     "execution_count": 83,
     "metadata": {},
     "output_type": "execute_result"
    }
   ],
   "source": [
    "user_campaign.user_id[user_campaign.campaign_1 != '0'].nunique()"
   ]
  },
  {
   "cell_type": "markdown",
   "metadata": {},
   "source": [
    "# Campaign_1 \n",
    "## SEND 6000\n",
    "### Opened 1320 (OR = 22%)\n",
    "#### CTU 133 (CTR= 2,2%)\n",
    "\n",
    "\n",
    "\n",
    "\n",
    "# Campaign_2 \n",
    "## SEND 8000\n",
    "### Opened ??? (OR = ??%)\n",
    "#### CTU ??? (CTR= 2,2%)\n",
    "\n",
    "\n",
    "\n",
    "\n",
    "\n",
    "# Campaign_3 \n",
    "## SEND 6800\n",
    "### Opened ??? (OR = ??%)\n",
    "#### CTU ??? (CTR= ??%)\n",
    "\n",
    "\n",
    "\n"
   ]
  },
  {
   "cell_type": "code",
   "execution_count": 69,
   "metadata": {},
   "outputs": [],
   "source": [
    "user_email_status = pd.read_csv('user_time_emailstatus.csv')"
   ]
  },
  {
   "cell_type": "code",
   "execution_count": 78,
   "metadata": {},
   "outputs": [
    {
     "data": {
      "text/plain": [
       "(20800, 3)"
      ]
     },
     "execution_count": 78,
     "metadata": {},
     "output_type": "execute_result"
    }
   ],
   "source": [
    "user_email_status.shape"
   ]
  },
  {
   "cell_type": "code",
   "execution_count": 75,
   "metadata": {},
   "outputs": [
    {
     "data": {
      "text/html": [
       "<div>\n",
       "<style scoped>\n",
       "    .dataframe tbody tr th:only-of-type {\n",
       "        vertical-align: middle;\n",
       "    }\n",
       "\n",
       "    .dataframe tbody tr th {\n",
       "        vertical-align: top;\n",
       "    }\n",
       "\n",
       "    .dataframe thead th {\n",
       "        text-align: right;\n",
       "    }\n",
       "</style>\n",
       "<table border=\"1\" class=\"dataframe\">\n",
       "  <thead>\n",
       "    <tr style=\"text-align: right;\">\n",
       "      <th></th>\n",
       "      <th>user_id</th>\n",
       "      <th>time</th>\n",
       "      <th>email_status</th>\n",
       "    </tr>\n",
       "  </thead>\n",
       "  <tbody>\n",
       "    <tr>\n",
       "      <th>0</th>\n",
       "      <td>70637</td>\n",
       "      <td>2020-10-20 16:47:14</td>\n",
       "      <td>ok_delivered</td>\n",
       "    </tr>\n",
       "    <tr>\n",
       "      <th>6001</th>\n",
       "      <td>70637</td>\n",
       "      <td>2020-10-29 19:09:12</td>\n",
       "      <td>ok_read</td>\n",
       "    </tr>\n",
       "    <tr>\n",
       "      <th>14000</th>\n",
       "      <td>70637</td>\n",
       "      <td>2020-11-02 14:46:37</td>\n",
       "      <td>ok_delivered</td>\n",
       "    </tr>\n",
       "  </tbody>\n",
       "</table>\n",
       "</div>"
      ],
      "text/plain": [
       "       user_id                 time  email_status\n",
       "0        70637  2020-10-20 16:47:14  ok_delivered\n",
       "6001     70637  2020-10-29 19:09:12       ok_read\n",
       "14000    70637  2020-11-02 14:46:37  ok_delivered"
      ]
     },
     "execution_count": 75,
     "metadata": {},
     "output_type": "execute_result"
    }
   ],
   "source": [
    "user_email_status[user_email_status.user_id == 70637] "
   ]
  },
  {
   "cell_type": "code",
   "execution_count": 79,
   "metadata": {},
   "outputs": [],
   "source": [
    "mm = user_email_status.merge(user_campaign, how='left', on='user_id')"
   ]
  },
  {
   "cell_type": "code",
   "execution_count": 80,
   "metadata": {},
   "outputs": [
    {
     "data": {
      "text/html": [
       "<div>\n",
       "<style scoped>\n",
       "    .dataframe tbody tr th:only-of-type {\n",
       "        vertical-align: middle;\n",
       "    }\n",
       "\n",
       "    .dataframe tbody tr th {\n",
       "        vertical-align: top;\n",
       "    }\n",
       "\n",
       "    .dataframe thead th {\n",
       "        text-align: right;\n",
       "    }\n",
       "</style>\n",
       "<table border=\"1\" class=\"dataframe\">\n",
       "  <thead>\n",
       "    <tr style=\"text-align: right;\">\n",
       "      <th></th>\n",
       "      <th>user_id</th>\n",
       "      <th>time</th>\n",
       "      <th>email_status</th>\n",
       "      <th>campaign_list</th>\n",
       "      <th>len_list</th>\n",
       "      <th>campaign_1</th>\n",
       "      <th>campaign_2</th>\n",
       "      <th>campaign_3</th>\n",
       "    </tr>\n",
       "  </thead>\n",
       "  <tbody>\n",
       "    <tr>\n",
       "      <th>0</th>\n",
       "      <td>70637</td>\n",
       "      <td>2020-10-20 16:47:14</td>\n",
       "      <td>ok_delivered</td>\n",
       "      <td>[19102020, 26102020, 02112020]</td>\n",
       "      <td>3</td>\n",
       "      <td>19102020</td>\n",
       "      <td>26102020</td>\n",
       "      <td>02112020</td>\n",
       "    </tr>\n",
       "    <tr>\n",
       "      <th>1</th>\n",
       "      <td>91206</td>\n",
       "      <td>2020-10-21 23:13:48</td>\n",
       "      <td>ok_delivered</td>\n",
       "      <td>[19102020, 0, 0]</td>\n",
       "      <td>3</td>\n",
       "      <td>19102020</td>\n",
       "      <td>0</td>\n",
       "      <td>0</td>\n",
       "    </tr>\n",
       "    <tr>\n",
       "      <th>2</th>\n",
       "      <td>45049</td>\n",
       "      <td>2020-10-22 00:19:08</td>\n",
       "      <td>ok_delivered</td>\n",
       "      <td>[19102020, 0, 02112020]</td>\n",
       "      <td>3</td>\n",
       "      <td>19102020</td>\n",
       "      <td>0</td>\n",
       "      <td>02112020</td>\n",
       "    </tr>\n",
       "    <tr>\n",
       "      <th>3</th>\n",
       "      <td>42063</td>\n",
       "      <td>2020-10-25 21:01:46</td>\n",
       "      <td>ok_delivered</td>\n",
       "      <td>[19102020, 0, 02112020]</td>\n",
       "      <td>3</td>\n",
       "      <td>19102020</td>\n",
       "      <td>0</td>\n",
       "      <td>02112020</td>\n",
       "    </tr>\n",
       "    <tr>\n",
       "      <th>4</th>\n",
       "      <td>15367</td>\n",
       "      <td>2020-10-19 15:27:03</td>\n",
       "      <td>ok_delivered</td>\n",
       "      <td>[19102020, 26102020, 02112020]</td>\n",
       "      <td>3</td>\n",
       "      <td>19102020</td>\n",
       "      <td>26102020</td>\n",
       "      <td>02112020</td>\n",
       "    </tr>\n",
       "    <tr>\n",
       "      <th>...</th>\n",
       "      <td>...</td>\n",
       "      <td>...</td>\n",
       "      <td>...</td>\n",
       "      <td>...</td>\n",
       "      <td>...</td>\n",
       "      <td>...</td>\n",
       "      <td>...</td>\n",
       "      <td>...</td>\n",
       "    </tr>\n",
       "    <tr>\n",
       "      <th>20795</th>\n",
       "      <td>67661</td>\n",
       "      <td>2020-11-07 02:58:20</td>\n",
       "      <td>ok_read</td>\n",
       "      <td>[19102020, 26102020, 02112020]</td>\n",
       "      <td>3</td>\n",
       "      <td>19102020</td>\n",
       "      <td>26102020</td>\n",
       "      <td>02112020</td>\n",
       "    </tr>\n",
       "    <tr>\n",
       "      <th>20796</th>\n",
       "      <td>72724</td>\n",
       "      <td>2020-11-02 21:55:32</td>\n",
       "      <td>ok_delivered</td>\n",
       "      <td>[19102020, 26102020, 02112020]</td>\n",
       "      <td>3</td>\n",
       "      <td>19102020</td>\n",
       "      <td>26102020</td>\n",
       "      <td>02112020</td>\n",
       "    </tr>\n",
       "    <tr>\n",
       "      <th>20797</th>\n",
       "      <td>51550</td>\n",
       "      <td>2020-11-07 17:55:28</td>\n",
       "      <td>ok_delivered</td>\n",
       "      <td>[19102020, 0, 02112020]</td>\n",
       "      <td>3</td>\n",
       "      <td>19102020</td>\n",
       "      <td>0</td>\n",
       "      <td>02112020</td>\n",
       "    </tr>\n",
       "    <tr>\n",
       "      <th>20798</th>\n",
       "      <td>47570</td>\n",
       "      <td>2020-11-03 00:25:13</td>\n",
       "      <td>ok_read</td>\n",
       "      <td>[0, 26102020, 02112020]</td>\n",
       "      <td>3</td>\n",
       "      <td>0</td>\n",
       "      <td>26102020</td>\n",
       "      <td>02112020</td>\n",
       "    </tr>\n",
       "    <tr>\n",
       "      <th>20799</th>\n",
       "      <td>40859</td>\n",
       "      <td>2020-11-08 01:15:45</td>\n",
       "      <td>ok_delivered</td>\n",
       "      <td>[19102020, 26102020, 02112020]</td>\n",
       "      <td>3</td>\n",
       "      <td>19102020</td>\n",
       "      <td>26102020</td>\n",
       "      <td>02112020</td>\n",
       "    </tr>\n",
       "  </tbody>\n",
       "</table>\n",
       "<p>20800 rows × 8 columns</p>\n",
       "</div>"
      ],
      "text/plain": [
       "       user_id                 time  email_status  \\\n",
       "0        70637  2020-10-20 16:47:14  ok_delivered   \n",
       "1        91206  2020-10-21 23:13:48  ok_delivered   \n",
       "2        45049  2020-10-22 00:19:08  ok_delivered   \n",
       "3        42063  2020-10-25 21:01:46  ok_delivered   \n",
       "4        15367  2020-10-19 15:27:03  ok_delivered   \n",
       "...        ...                  ...           ...   \n",
       "20795    67661  2020-11-07 02:58:20       ok_read   \n",
       "20796    72724  2020-11-02 21:55:32  ok_delivered   \n",
       "20797    51550  2020-11-07 17:55:28  ok_delivered   \n",
       "20798    47570  2020-11-03 00:25:13       ok_read   \n",
       "20799    40859  2020-11-08 01:15:45  ok_delivered   \n",
       "\n",
       "                        campaign_list  len_list campaign_1 campaign_2  \\\n",
       "0      [19102020, 26102020, 02112020]         3   19102020   26102020   \n",
       "1                    [19102020, 0, 0]         3   19102020          0   \n",
       "2             [19102020, 0, 02112020]         3   19102020          0   \n",
       "3             [19102020, 0, 02112020]         3   19102020          0   \n",
       "4      [19102020, 26102020, 02112020]         3   19102020   26102020   \n",
       "...                               ...       ...        ...        ...   \n",
       "20795  [19102020, 26102020, 02112020]         3   19102020   26102020   \n",
       "20796  [19102020, 26102020, 02112020]         3   19102020   26102020   \n",
       "20797         [19102020, 0, 02112020]         3   19102020          0   \n",
       "20798         [0, 26102020, 02112020]         3          0   26102020   \n",
       "20799  [19102020, 26102020, 02112020]         3   19102020   26102020   \n",
       "\n",
       "      campaign_3  \n",
       "0       02112020  \n",
       "1              0  \n",
       "2       02112020  \n",
       "3       02112020  \n",
       "4       02112020  \n",
       "...          ...  \n",
       "20795   02112020  \n",
       "20796   02112020  \n",
       "20797   02112020  \n",
       "20798   02112020  \n",
       "20799   02112020  \n",
       "\n",
       "[20800 rows x 8 columns]"
      ]
     },
     "execution_count": 80,
     "metadata": {},
     "output_type": "execute_result"
    }
   ],
   "source": [
    "mm"
   ]
  },
  {
   "cell_type": "code",
   "execution_count": 89,
   "metadata": {},
   "outputs": [
    {
     "data": {
      "text/plain": [
       "ok_delivered       11208\n",
       "ok_read             3244\n",
       "ok_link_visited      469\n",
       "Name: email_status, dtype: int64"
      ]
     },
     "execution_count": 89,
     "metadata": {},
     "output_type": "execute_result"
    }
   ],
   "source": [
    "mm[mm.campaign_1 != '0'].email_status.value_counts()"
   ]
  },
  {
   "cell_type": "code",
   "execution_count": 86,
   "metadata": {},
   "outputs": [
    {
     "data": {
      "text/html": [
       "<div>\n",
       "<style scoped>\n",
       "    .dataframe tbody tr th:only-of-type {\n",
       "        vertical-align: middle;\n",
       "    }\n",
       "\n",
       "    .dataframe tbody tr th {\n",
       "        vertical-align: top;\n",
       "    }\n",
       "\n",
       "    .dataframe thead tr th {\n",
       "        text-align: left;\n",
       "    }\n",
       "\n",
       "    .dataframe thead tr:last-of-type th {\n",
       "        text-align: right;\n",
       "    }\n",
       "</style>\n",
       "<table border=\"1\" class=\"dataframe\">\n",
       "  <thead>\n",
       "    <tr>\n",
       "      <th></th>\n",
       "      <th></th>\n",
       "      <th colspan=\"2\" halign=\"left\">user_id</th>\n",
       "    </tr>\n",
       "    <tr>\n",
       "      <th></th>\n",
       "      <th></th>\n",
       "      <th>count</th>\n",
       "      <th>nunique</th>\n",
       "    </tr>\n",
       "    <tr>\n",
       "      <th>campaign_1</th>\n",
       "      <th>email_status</th>\n",
       "      <th></th>\n",
       "      <th></th>\n",
       "    </tr>\n",
       "  </thead>\n",
       "  <tbody>\n",
       "    <tr>\n",
       "      <th rowspan=\"3\" valign=\"top\">0</th>\n",
       "      <th>ok_delivered</th>\n",
       "      <td>4328</td>\n",
       "      <td>3197</td>\n",
       "    </tr>\n",
       "    <tr>\n",
       "      <th>ok_link_visited</th>\n",
       "      <td>213</td>\n",
       "      <td>212</td>\n",
       "    </tr>\n",
       "    <tr>\n",
       "      <th>ok_read</th>\n",
       "      <td>1338</td>\n",
       "      <td>1241</td>\n",
       "    </tr>\n",
       "    <tr>\n",
       "      <th rowspan=\"3\" valign=\"top\">19102020</th>\n",
       "      <th>ok_delivered</th>\n",
       "      <td>11208</td>\n",
       "      <td>5718</td>\n",
       "    </tr>\n",
       "    <tr>\n",
       "      <th>ok_link_visited</th>\n",
       "      <td>469</td>\n",
       "      <td>451</td>\n",
       "    </tr>\n",
       "    <tr>\n",
       "      <th>ok_read</th>\n",
       "      <td>3244</td>\n",
       "      <td>2712</td>\n",
       "    </tr>\n",
       "  </tbody>\n",
       "</table>\n",
       "</div>"
      ],
      "text/plain": [
       "                           user_id        \n",
       "                             count nunique\n",
       "campaign_1 email_status                   \n",
       "0          ok_delivered       4328    3197\n",
       "           ok_link_visited     213     212\n",
       "           ok_read            1338    1241\n",
       "19102020   ok_delivered      11208    5718\n",
       "           ok_link_visited     469     451\n",
       "           ok_read            3244    2712"
      ]
     },
     "execution_count": 86,
     "metadata": {},
     "output_type": "execute_result"
    }
   ],
   "source": [
    "mm.groupby(['campaign_1','email_status']).agg({'user_id':['count','nunique']})"
   ]
  },
  {
   "cell_type": "code",
   "execution_count": 90,
   "metadata": {},
   "outputs": [
    {
     "data": {
      "text/html": [
       "<div>\n",
       "<style scoped>\n",
       "    .dataframe tbody tr th:only-of-type {\n",
       "        vertical-align: middle;\n",
       "    }\n",
       "\n",
       "    .dataframe tbody tr th {\n",
       "        vertical-align: top;\n",
       "    }\n",
       "\n",
       "    .dataframe thead tr th {\n",
       "        text-align: left;\n",
       "    }\n",
       "\n",
       "    .dataframe thead tr:last-of-type th {\n",
       "        text-align: right;\n",
       "    }\n",
       "</style>\n",
       "<table border=\"1\" class=\"dataframe\">\n",
       "  <thead>\n",
       "    <tr>\n",
       "      <th></th>\n",
       "      <th colspan=\"2\" halign=\"left\">user_id</th>\n",
       "    </tr>\n",
       "    <tr>\n",
       "      <th></th>\n",
       "      <th>count</th>\n",
       "      <th>nunique</th>\n",
       "    </tr>\n",
       "    <tr>\n",
       "      <th>campaign_1</th>\n",
       "      <th></th>\n",
       "      <th></th>\n",
       "    </tr>\n",
       "  </thead>\n",
       "  <tbody>\n",
       "    <tr>\n",
       "      <th>0</th>\n",
       "      <td>5879</td>\n",
       "      <td>3750</td>\n",
       "    </tr>\n",
       "    <tr>\n",
       "      <th>19102020</th>\n",
       "      <td>14921</td>\n",
       "      <td>6000</td>\n",
       "    </tr>\n",
       "  </tbody>\n",
       "</table>\n",
       "</div>"
      ],
      "text/plain": [
       "           user_id        \n",
       "             count nunique\n",
       "campaign_1                \n",
       "0             5879    3750\n",
       "19102020     14921    6000"
      ]
     },
     "execution_count": 90,
     "metadata": {},
     "output_type": "execute_result"
    }
   ],
   "source": [
    "mm.groupby('campaign_1').agg({'user_id':['count','nunique']})"
   ]
  },
  {
   "cell_type": "code",
   "execution_count": 91,
   "metadata": {},
   "outputs": [
    {
     "data": {
      "text/plain": [
       "0.47429171038824763"
      ]
     },
     "execution_count": 91,
     "metadata": {},
     "output_type": "execute_result"
    }
   ],
   "source": [
    "2712/5718"
   ]
  },
  {
   "cell_type": "markdown",
   "metadata": {},
   "source": [
    "# !!!!!"
   ]
  },
  {
   "cell_type": "code",
   "execution_count": 100,
   "metadata": {},
   "outputs": [
    {
     "data": {
      "text/html": [
       "<div>\n",
       "<style scoped>\n",
       "    .dataframe tbody tr th:only-of-type {\n",
       "        vertical-align: middle;\n",
       "    }\n",
       "\n",
       "    .dataframe tbody tr th {\n",
       "        vertical-align: top;\n",
       "    }\n",
       "\n",
       "    .dataframe thead th {\n",
       "        text-align: right;\n",
       "    }\n",
       "</style>\n",
       "<table border=\"1\" class=\"dataframe\">\n",
       "  <thead>\n",
       "    <tr style=\"text-align: right;\">\n",
       "      <th></th>\n",
       "      <th>user_id</th>\n",
       "      <th>time</th>\n",
       "      <th>email_status</th>\n",
       "    </tr>\n",
       "  </thead>\n",
       "  <tbody>\n",
       "    <tr>\n",
       "      <th>0</th>\n",
       "      <td>70637</td>\n",
       "      <td>2020-10-20 16:47:14</td>\n",
       "      <td>ok_delivered</td>\n",
       "    </tr>\n",
       "    <tr>\n",
       "      <th>6001</th>\n",
       "      <td>70637</td>\n",
       "      <td>2020-10-29 19:09:12</td>\n",
       "      <td>ok_read</td>\n",
       "    </tr>\n",
       "    <tr>\n",
       "      <th>14000</th>\n",
       "      <td>70637</td>\n",
       "      <td>2020-11-02 14:46:37</td>\n",
       "      <td>ok_delivered</td>\n",
       "    </tr>\n",
       "  </tbody>\n",
       "</table>\n",
       "</div>"
      ],
      "text/plain": [
       "       user_id                 time  email_status\n",
       "0        70637  2020-10-20 16:47:14  ok_delivered\n",
       "6001     70637  2020-10-29 19:09:12       ok_read\n",
       "14000    70637  2020-11-02 14:46:37  ok_delivered"
      ]
     },
     "execution_count": 100,
     "metadata": {},
     "output_type": "execute_result"
    }
   ],
   "source": [
    "user_email_status[user_email_status.user_id == 70637] "
   ]
  },
  {
   "cell_type": "code",
   "execution_count": 103,
   "metadata": {},
   "outputs": [],
   "source": [
    "user_email_status.time = pd.to_datetime(user_email_status.time)"
   ]
  },
  {
   "cell_type": "code",
   "execution_count": 104,
   "metadata": {},
   "outputs": [
    {
     "name": "stdout",
     "output_type": "stream",
     "text": [
      "<class 'pandas.core.frame.DataFrame'>\n",
      "RangeIndex: 20800 entries, 0 to 20799\n",
      "Data columns (total 3 columns):\n",
      "user_id         20800 non-null int64\n",
      "time            20800 non-null datetime64[ns]\n",
      "email_status    20800 non-null object\n",
      "dtypes: datetime64[ns](1), int64(1), object(1)\n",
      "memory usage: 487.6+ KB\n"
     ]
    }
   ],
   "source": [
    "user_email_status.info()"
   ]
  },
  {
   "cell_type": "code",
   "execution_count": 106,
   "metadata": {},
   "outputs": [],
   "source": [
    "user_email_status['campaign'] = np.where(user_email_status.time > pd.to_datetime('2020-11-02')\n",
    "                                         , '02112020'\n",
    "                                         ,np.where(\n",
    "                                             pd.to_datetime('2020-10-26') > user_email_status.time\n",
    "                                             , '19102020', '26102020'))"
   ]
  },
  {
   "cell_type": "code",
   "execution_count": 156,
   "metadata": {},
   "outputs": [
    {
     "data": {
      "text/plain": [
       "Timestamp('2020-10-26 00:00:00')"
      ]
     },
     "execution_count": 156,
     "metadata": {},
     "output_type": "execute_result"
    }
   ],
   "source": [
    "pd.to_datetime('2020-10-26')"
   ]
  },
  {
   "cell_type": "code",
   "execution_count": 115,
   "metadata": {},
   "outputs": [
    {
     "data": {
      "text/plain": [
       "campaign  email_status   \n",
       "02112020  ok_delivered       5576\n",
       "          ok_link_visited     220\n",
       "          ok_read            1004\n",
       "19102020  ok_delivered       4680\n",
       "          ok_link_visited     133\n",
       "          ok_read            1187\n",
       "26102020  ok_delivered       5280\n",
       "          ok_link_visited     329\n",
       "          ok_read            2391\n",
       "Name: user_id, dtype: int64"
      ]
     },
     "execution_count": 115,
     "metadata": {},
     "output_type": "execute_result"
    }
   ],
   "source": [
    "user_email_status.groupby(['campaign','email_status']).user_id.count()"
   ]
  },
  {
   "cell_type": "code",
   "execution_count": null,
   "metadata": {},
   "outputs": [],
   "source": []
  },
  {
   "cell_type": "code",
   "execution_count": null,
   "metadata": {},
   "outputs": [],
   "source": []
  },
  {
   "cell_type": "code",
   "execution_count": null,
   "metadata": {},
   "outputs": [],
   "source": []
  },
  {
   "cell_type": "code",
   "execution_count": null,
   "metadata": {},
   "outputs": [],
   "source": []
  },
  {
   "cell_type": "code",
   "execution_count": 146,
   "metadata": {},
   "outputs": [],
   "source": [
    "campaign_1 =  user_email_status[user_email_status.campaign == '19102020']"
   ]
  },
  {
   "cell_type": "code",
   "execution_count": 147,
   "metadata": {},
   "outputs": [
    {
     "data": {
      "text/html": [
       "<div>\n",
       "<style scoped>\n",
       "    .dataframe tbody tr th:only-of-type {\n",
       "        vertical-align: middle;\n",
       "    }\n",
       "\n",
       "    .dataframe tbody tr th {\n",
       "        vertical-align: top;\n",
       "    }\n",
       "\n",
       "    .dataframe thead th {\n",
       "        text-align: right;\n",
       "    }\n",
       "</style>\n",
       "<table border=\"1\" class=\"dataframe\">\n",
       "  <thead>\n",
       "    <tr style=\"text-align: right;\">\n",
       "      <th></th>\n",
       "      <th>user_id</th>\n",
       "      <th>time</th>\n",
       "      <th>email_status</th>\n",
       "      <th>campaign</th>\n",
       "    </tr>\n",
       "  </thead>\n",
       "  <tbody>\n",
       "    <tr>\n",
       "      <th>6</th>\n",
       "      <td>33506</td>\n",
       "      <td>2020-10-21 04:46:22</td>\n",
       "      <td>ok_read</td>\n",
       "      <td>19102020</td>\n",
       "    </tr>\n",
       "    <tr>\n",
       "      <th>10</th>\n",
       "      <td>17905</td>\n",
       "      <td>2020-10-21 17:57:14</td>\n",
       "      <td>ok_read</td>\n",
       "      <td>19102020</td>\n",
       "    </tr>\n",
       "    <tr>\n",
       "      <th>13</th>\n",
       "      <td>85690</td>\n",
       "      <td>2020-10-21 04:50:15</td>\n",
       "      <td>ok_read</td>\n",
       "      <td>19102020</td>\n",
       "    </tr>\n",
       "    <tr>\n",
       "      <th>14</th>\n",
       "      <td>33133</td>\n",
       "      <td>2020-10-20 22:33:01</td>\n",
       "      <td>ok_read</td>\n",
       "      <td>19102020</td>\n",
       "    </tr>\n",
       "    <tr>\n",
       "      <th>17</th>\n",
       "      <td>60558</td>\n",
       "      <td>2020-10-19 06:20:45</td>\n",
       "      <td>ok_read</td>\n",
       "      <td>19102020</td>\n",
       "    </tr>\n",
       "    <tr>\n",
       "      <th>...</th>\n",
       "      <td>...</td>\n",
       "      <td>...</td>\n",
       "      <td>...</td>\n",
       "      <td>...</td>\n",
       "    </tr>\n",
       "    <tr>\n",
       "      <th>5980</th>\n",
       "      <td>86463</td>\n",
       "      <td>2020-10-20 04:32:06</td>\n",
       "      <td>ok_read</td>\n",
       "      <td>19102020</td>\n",
       "    </tr>\n",
       "    <tr>\n",
       "      <th>5989</th>\n",
       "      <td>94603</td>\n",
       "      <td>2020-10-23 15:05:50</td>\n",
       "      <td>ok_read</td>\n",
       "      <td>19102020</td>\n",
       "    </tr>\n",
       "    <tr>\n",
       "      <th>5990</th>\n",
       "      <td>57322</td>\n",
       "      <td>2020-10-21 23:22:06</td>\n",
       "      <td>ok_read</td>\n",
       "      <td>19102020</td>\n",
       "    </tr>\n",
       "    <tr>\n",
       "      <th>5991</th>\n",
       "      <td>67068</td>\n",
       "      <td>2020-10-24 20:39:28</td>\n",
       "      <td>ok_read</td>\n",
       "      <td>19102020</td>\n",
       "    </tr>\n",
       "    <tr>\n",
       "      <th>5992</th>\n",
       "      <td>11445</td>\n",
       "      <td>2020-10-19 19:31:16</td>\n",
       "      <td>ok_link_visited</td>\n",
       "      <td>19102020</td>\n",
       "    </tr>\n",
       "  </tbody>\n",
       "</table>\n",
       "<p>1320 rows × 4 columns</p>\n",
       "</div>"
      ],
      "text/plain": [
       "      user_id                time     email_status  campaign\n",
       "6       33506 2020-10-21 04:46:22          ok_read  19102020\n",
       "10      17905 2020-10-21 17:57:14          ok_read  19102020\n",
       "13      85690 2020-10-21 04:50:15          ok_read  19102020\n",
       "14      33133 2020-10-20 22:33:01          ok_read  19102020\n",
       "17      60558 2020-10-19 06:20:45          ok_read  19102020\n",
       "...       ...                 ...              ...       ...\n",
       "5980    86463 2020-10-20 04:32:06          ok_read  19102020\n",
       "5989    94603 2020-10-23 15:05:50          ok_read  19102020\n",
       "5990    57322 2020-10-21 23:22:06          ok_read  19102020\n",
       "5991    67068 2020-10-24 20:39:28          ok_read  19102020\n",
       "5992    11445 2020-10-19 19:31:16  ok_link_visited  19102020\n",
       "\n",
       "[1320 rows x 4 columns]"
      ]
     },
     "execution_count": 147,
     "metadata": {},
     "output_type": "execute_result"
    }
   ],
   "source": [
    "# Whole group that read letter\n",
    "campaign_1[(campaign_1['email_status'] == 'ok_read') | (campaign_1['email_status'] == 'ok_link_visited')]"
   ]
  },
  {
   "cell_type": "code",
   "execution_count": 148,
   "metadata": {},
   "outputs": [
    {
     "name": "stderr",
     "output_type": "stream",
     "text": [
      "/Users/sgafarov/opt/anaconda3/lib/python3.7/site-packages/ipykernel_launcher.py:1: SettingWithCopyWarning: \n",
      "A value is trying to be set on a copy of a slice from a DataFrame.\n",
      "Try using .loc[row_indexer,col_indexer] = value instead\n",
      "\n",
      "See the caveats in the documentation: http://pandas.pydata.org/pandas-docs/stable/user_guide/indexing.html#returning-a-view-versus-a-copy\n",
      "  \"\"\"Entry point for launching an IPython kernel.\n"
     ]
    }
   ],
   "source": [
    "campaign_1['ivan_feature'] = np.where(campaign_1.time.dt.hour >= 16, \n",
    "                                      '16-24',\n",
    "                                      np.where(campaign_1.time.dt.hour < 8,'0-8','8-16'))"
   ]
  },
  {
   "cell_type": "code",
   "execution_count": 149,
   "metadata": {},
   "outputs": [
    {
     "data": {
      "text/plain": [
       "0       16\n",
       "1       23\n",
       "2        0\n",
       "3       21\n",
       "4       15\n",
       "        ..\n",
       "5995    19\n",
       "5996    21\n",
       "5997    17\n",
       "5998    17\n",
       "5999    21\n",
       "Name: time, Length: 6000, dtype: int64"
      ]
     },
     "execution_count": 149,
     "metadata": {},
     "output_type": "execute_result"
    }
   ],
   "source": [
    "campaign_1.time.dt.hour"
   ]
  },
  {
   "cell_type": "code",
   "execution_count": 153,
   "metadata": {},
   "outputs": [
    {
     "data": {
      "text/plain": [
       "16-24    56\n",
       "8-16     46\n",
       "0-8      31\n",
       "Name: ivan_feature, dtype: int64"
      ]
     },
     "execution_count": 153,
     "metadata": {},
     "output_type": "execute_result"
    }
   ],
   "source": [
    "campaign_1[(campaign_1['email_status'] == 'ok_link_visited')].ivan_feature.value_counts()"
   ]
  },
  {
   "cell_type": "markdown",
   "metadata": {},
   "source": [
    "## open_rate and Click rate depends on hours"
   ]
  },
  {
   "cell_type": "code",
   "execution_count": 154,
   "metadata": {},
   "outputs": [],
   "source": [
    "## Your code here "
   ]
  },
  {
   "cell_type": "code",
   "execution_count": null,
   "metadata": {},
   "outputs": [],
   "source": []
  }
 ],
 "metadata": {
  "kernelspec": {
   "display_name": "Python 3",
   "language": "python",
   "name": "python3"
  },
  "language_info": {
   "codemirror_mode": {
    "name": "ipython",
    "version": 3
   },
   "file_extension": ".py",
   "mimetype": "text/x-python",
   "name": "python",
   "nbconvert_exporter": "python",
   "pygments_lexer": "ipython3",
   "version": "3.7.6"
  }
 },
 "nbformat": 4,
 "nbformat_minor": 4
}
